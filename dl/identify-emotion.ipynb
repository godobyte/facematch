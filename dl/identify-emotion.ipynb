{
 "cells": [
  {
   "cell_type": "code",
   "execution_count": 1,
   "metadata": {
    "collapsed": true
   },
   "outputs": [],
   "source": [
    "import time\n",
    "import requests"
   ]
  },
  {
   "cell_type": "code",
   "execution_count": 2,
   "metadata": {
    "collapsed": true
   },
   "outputs": [],
   "source": [
    "# Variables\n",
    "\n",
    "_url = 'https://westus.api.cognitive.microsoft.com/emotion/v1.0/recognize'\n",
    "_key = ''\n",
    "_maxNumRetries = 10 "
   ]
  },
  {
   "cell_type": "code",
   "execution_count": 3,
   "metadata": {
    "collapsed": true
   },
   "outputs": [],
   "source": [
    "def processRequest( json, data, headers, params ):\n",
    "\n",
    "    \"\"\"\n",
    "    Helper function to process the request to Project Oxford\n",
    "\n",
    "    Parameters:\n",
    "    json: Used when processing images from its URL. See API Documentation\n",
    "    data: Used when processing image read from disk. See API Documentation\n",
    "    headers: Used to pass the key information and the data type request\n",
    "    \"\"\"\n",
    "\n",
    "    retries = 0\n",
    "    result = None\n",
    "\n",
    "    while True:\n",
    "\n",
    "        response = requests.request( 'post', _url, json = json, data = data, headers = headers, params = params )\n",
    "\n",
    "        if response.status_code == 429: \n",
    "\n",
    "            print( \"Message: %s\" % ( response.json()['error']['message'] ) )\n",
    "\n",
    "            if retries <= _maxNumRetries: \n",
    "                time.sleep(1) \n",
    "                retries += 1\n",
    "                continue\n",
    "            else: \n",
    "                print( 'Error: failed after retrying!' )\n",
    "                break\n",
    "\n",
    "        elif response.status_code == 200 or response.status_code == 201:\n",
    "\n",
    "            if 'content-length' in response.headers and int(response.headers['content-length']) == 0: \n",
    "                result = None \n",
    "            elif 'content-type' in response.headers and isinstance(response.headers['content-type'], str): \n",
    "                if 'application/json' in response.headers['content-type'].lower(): \n",
    "                    result = response.json() if response.content else None \n",
    "                elif 'image' in response.headers['content-type'].lower(): \n",
    "                    result = response.content\n",
    "        else:\n",
    "            print( \"Error code: %d\" % ( response.status_code ) )\n",
    "            print( \"Message: %s\" % ( response.json()['error']['message'] ) )\n",
    "\n",
    "        break\n",
    "        \n",
    "    return result "
   ]
  },
  {
   "cell_type": "code",
   "execution_count": 4,
   "metadata": {},
   "outputs": [],
   "source": [
    "# Load raw image file into memory\n",
    "# pathToFileInDisk = list_of_images[0]\n",
    "# with open( pathToFileInDisk, 'rb' ) as f:\n",
    "#     data = f.read()\n",
    "\n",
    "# headers = dict()\n",
    "# headers['Ocp-Apim-Subscription-Key'] = '1479c1f069394b7688946ae820acb779'\n",
    "# headers['Content-Type'] = 'application/octet-stream'\n",
    "\n",
    "# json = None\n",
    "# params = None\n",
    "\n",
    "# result = processRequest( json, data, headers, params )\n",
    "# print(result) "
   ]
  },
  {
   "cell_type": "code",
   "execution_count": 24,
   "metadata": {},
   "outputs": [],
   "source": [
    "import glob\n",
    "list_of_images = glob.glob('originalPics/*.jpg')"
   ]
  },
  {
   "cell_type": "code",
   "execution_count": 25,
   "metadata": {
    "collapsed": true
   },
   "outputs": [],
   "source": [
    "# initialize microsoft api\n",
    "headers = dict()\n",
    "headers['Ocp-Apim-Subscription-Key'] = _key\n",
    "headers['Content-Type'] = 'application/octet-stream'\n",
    "\n",
    "json = None\n",
    "params = None"
   ]
  },
  {
   "cell_type": "code",
   "execution_count": 29,
   "metadata": {},
   "outputs": [
    {
     "data": {
      "text/plain": [
       "19"
      ]
     },
     "execution_count": 29,
     "metadata": {},
     "output_type": "execute_result"
    }
   ],
   "source": [
    "# microsoft rate limit = 20 per minute\n",
    "img_array = []\n",
    "list_of_images = list_of_images[0:19]\n",
    "len(list_of_images)"
   ]
  },
  {
   "cell_type": "code",
   "execution_count": 30,
   "metadata": {},
   "outputs": [],
   "source": [
    "# create for loop for images here\n",
    "for img in list_of_images:\n",
    "    pathToFileInDisk = img\n",
    "    with open( pathToFileInDisk, 'rb' ) as f:\n",
    "        data = f.read()\n",
    "    result = processRequest( json, data, headers, params )\n",
    "    json_output = {'input': img.split('/')[1],\n",
    "                   'output': result}\n",
    "    img_array.append(json_output)"
   ]
  },
  {
   "cell_type": "code",
   "execution_count": 31,
   "metadata": {},
   "outputs": [
    {
     "name": "stdout",
     "output_type": "stream",
     "text": [
      "[{'input': '1.jpg', 'output': [{'faceRectangle': {'height': 142, 'left': 89, 'top': 89, 'width': 142}, 'scores': {'anger': 0.225969955, 'contempt': 0.0185250733, 'disgust': 0.01193539, 'fear': 0.00115492323, 'happiness': 0.0022804304, 'neutral': 0.727707446, 'sadness': 0.00441818, 'surprise': 0.008008626}}]}, {'input': '10.jpg', 'output': [{'faceRectangle': {'height': 148, 'left': 70, 'top': 112, 'width': 148}, 'scores': {'anger': 1.98885682e-05, 'contempt': 0.0004118145, 'disgust': 0.000129953958, 'fear': 1.03576355e-07, 'happiness': 0.96344167, 'neutral': 0.03590715, 'sadness': 7.948746e-05, 'surprise': 9.915888e-06}}]}, {'input': '100.jpg', 'output': [{'faceRectangle': {'height': 101, 'left': 86, 'top': 166, 'width': 101}, 'scores': {'anger': 0.000235914078, 'contempt': 0.00340858754, 'disgust': 0.000318060134, 'fear': 2.24505538e-06, 'happiness': 0.5783524, 'neutral': 0.416641951, 'sadness': 0.00101243309, 'surprise': 2.839436e-05}}, {'faceRectangle': {'height': 58, 'left': 220, 'top': 187, 'width': 58}, 'scores': {'anger': 0.0134349773, 'contempt': 0.000615725759, 'disgust': 0.00021049747, 'fear': 1.8417848e-05, 'happiness': 4.20125161e-06, 'neutral': 0.9840673, 'sadness': 0.000164990211, 'surprise': 0.00148386857}}, {'faceRectangle': {'height': 58, 'left': 0, 'top': 233, 'width': 45}, 'scores': {'anger': 0.0165481847, 'contempt': 0.007966468, 'disgust': 0.00200713985, 'fear': 0.00018612048, 'happiness': 0.0070642964, 'neutral': 0.9464097, 'sadness': 0.01879011, 'surprise': 0.00102798478}}]}, {'input': '1000.jpg', 'output': [{'faceRectangle': {'height': 62, 'left': 120, 'top': 64, 'width': 62}, 'scores': {'anger': 0.251522571, 'contempt': 0.000242754279, 'disgust': 0.000209209, 'fear': 1.904807e-05, 'happiness': 2.69197722e-06, 'neutral': 0.7445917, 'sadness': 0.00323819974, 'surprise': 0.00017380729}}]}, {'input': '10000.jpg', 'output': [{'faceRectangle': {'height': 65, 'left': 328, 'top': 86, 'width': 65}, 'scores': {'anger': 5.11998223e-05, 'contempt': 0.00187895249, 'disgust': 3.13141686e-06, 'fear': 5.95815175e-09, 'happiness': 0.000380539423, 'neutral': 0.997675359, 'sadness': 5.35146546e-06, 'surprise': 5.450897e-06}}, {'faceRectangle': {'height': 61, 'left': 167, 'top': 148, 'width': 61}, 'scores': {'anger': 4.75311244e-05, 'contempt': 9.781517e-05, 'disgust': 1.16748051e-05, 'fear': 0.00106837845, 'happiness': 1.01298283e-05, 'neutral': 0.986962736, 'sadness': 0.0042108437, 'surprise': 0.007590883}}, {'faceRectangle': {'height': 60, 'left': 134, 'top': 49, 'width': 60}, 'scores': {'anger': 0.000905964931, 'contempt': 0.0006418203, 'disgust': 0.00036443994, 'fear': 7.814826e-07, 'happiness': 0.815783858, 'neutral': 0.182068169, 'sadness': 0.000170282263, 'surprise': 6.469229e-05}}, {'faceRectangle': {'height': 56, 'left': 224, 'top': 151, 'width': 56}, 'scores': {'anger': 6.28213229e-07, 'contempt': 1.075846e-06, 'disgust': 1.99474357e-07, 'fear': 9.69301652e-08, 'happiness': 0.999974966, 'neutral': 1.8508932e-05, 'sadness': 4.31059632e-08, 'surprise': 4.4735184e-06}}, {'faceRectangle': {'height': 50, 'left': 75, 'top': 81, 'width': 50}, 'scores': {'anger': 0.009390265, 'contempt': 0.0035348516, 'disgust': 0.00458721165, 'fear': 0.0130202435, 'happiness': 0.6957072, 'neutral': 0.214856878, 'sadness': 0.01375478, 'surprise': 0.04514856}}, {'faceRectangle': {'height': 49, 'left': 258, 'top': 97, 'width': 49}, 'scores': {'anger': 0.00130167371, 'contempt': 0.00159588316, 'disgust': 0.00112075894, 'fear': 0.00138471031, 'happiness': 0.164789766, 'neutral': 0.7922577, 'sadness': 0.00547058554, 'surprise': 0.03207891}}, {'faceRectangle': {'height': 48, 'left': 0, 'top': 34, 'width': 45}, 'scores': {'anger': 3.56725e-06, 'contempt': 7.21737752e-06, 'disgust': 2.11771322e-07, 'fear': 0.004884172, 'happiness': 0.00550235761, 'neutral': 0.9878266, 'sadness': 0.00141626585, 'surprise': 0.0003596295}}]}, {'input': '10001.jpg', 'output': [{'faceRectangle': {'height': 133, 'left': 66, 'top': 91, 'width': 133}, 'scores': {'anger': 0.001043284, 'contempt': 0.00619332865, 'disgust': 0.0004705778, 'fear': 1.1180523e-05, 'happiness': 0.1301229, 'neutral': 0.858617961, 'sadness': 0.0006458873, 'surprise': 0.002894873}}]}, {'input': '10002.jpg', 'output': [{'faceRectangle': {'height': 90, 'left': 236, 'top': 91, 'width': 90}, 'scores': {'anger': 4.822472e-07, 'contempt': 0.0008007906, 'disgust': 1.44139946e-07, 'fear': 3.4510137e-09, 'happiness': 0.0449585542, 'neutral': 0.954187, 'sadness': 4.871047e-05, 'surprise': 4.33955029e-06}}, {'faceRectangle': {'height': 70, 'left': 147, 'top': 113, 'width': 70}, 'scores': {'anger': 4.06564868e-05, 'contempt': 4.24969039e-06, 'disgust': 6.405487e-06, 'fear': 8.109474e-06, 'happiness': 0.9992634, 'neutral': 0.000505392, 'sadness': 0.000157119546, 'surprise': 1.464548e-05}}]}, {'input': '10003.jpg', 'output': [{'faceRectangle': {'height': 125, 'left': 84, 'top': 106, 'width': 125}, 'scores': {'anger': 3.39982677e-07, 'contempt': 1.99110616e-07, 'disgust': 6.30003051e-05, 'fear': 5.569168e-10, 'happiness': 0.9999236, 'neutral': 4.6065793e-06, 'sadness': 1.758123e-08, 'surprise': 8.230964e-06}}]}, {'input': '10004.jpg', 'output': [{'faceRectangle': {'height': 151, 'left': 89, 'top': 130, 'width': 151}, 'scores': {'anger': 0.000227482757, 'contempt': 0.00997341052, 'disgust': 0.000347779336, 'fear': 3.850513e-08, 'happiness': 0.109787531, 'neutral': 0.879609168, 'sadness': 3.476989e-05, 'surprise': 1.98120051e-05}}]}, {'input': '10005.jpg', 'output': [{'faceRectangle': {'height': 155, 'left': 60, 'top': 121, 'width': 155}, 'scores': {'anger': 0.005216052, 'contempt': 0.00478689233, 'disgust': 0.0004280257, 'fear': 3.243053e-07, 'happiness': 0.0007558162, 'neutral': 0.9880766, 'sadness': 0.000236391759, 'surprise': 0.000499857531}}]}, {'input': '10006.jpg', 'output': [{'faceRectangle': {'height': 55, 'left': 97, 'top': 44, 'width': 55}, 'scores': {'anger': 4.484655e-05, 'contempt': 0.00278216228, 'disgust': 3.84169834e-05, 'fear': 3.534905e-07, 'happiness': 0.8139464, 'neutral': 0.1828248, 'sadness': 0.0003571711, 'surprise': 5.82358643e-06}}, {'faceRectangle': {'height': 43, 'left': 317, 'top': 0, 'width': 49}, 'scores': {'anger': 0.0104549257, 'contempt': 0.008888725, 'disgust': 0.0109909214, 'fear': 0.0006761524, 'happiness': 0.612565637, 'neutral': 0.343641937, 'sadness': 0.01068976, 'surprise': 0.00209191465}}]}, {'input': '10007.jpg', 'output': [{'faceRectangle': {'height': 155, 'left': 249, 'top': 104, 'width': 155}, 'scores': {'anger': 0.0009441257, 'contempt': 0.144948915, 'disgust': 0.000733415247, 'fear': 0.000215534659, 'happiness': 0.271159947, 'neutral': 0.5046305, 'sadness': 0.00139413017, 'surprise': 0.07597341}}, {'faceRectangle': {'height': 152, 'left': 55, 'top': 99, 'width': 152}, 'scores': {'anger': 0.00126232661, 'contempt': 0.00589779, 'disgust': 0.002281488, 'fear': 0.00060407765, 'happiness': 0.0194101874, 'neutral': 0.943615437, 'sadness': 0.0006914499, 'surprise': 0.0262372475}}]}, {'input': '10008.jpg', 'output': [{'faceRectangle': {'height': 84, 'left': 172, 'top': 198, 'width': 84}, 'scores': {'anger': 0.08797504, 'contempt': 0.144124672, 'disgust': 0.0481761023, 'fear': 4.80072958e-05, 'happiness': 7.58905444e-05, 'neutral': 0.422568619, 'sadness': 0.296887726, 'surprise': 0.000143927085}}]}, {'input': '10009.jpg', 'output': [{'faceRectangle': {'height': 109, 'left': 130, 'top': 81, 'width': 109}, 'scores': {'anger': 0.00249176379, 'contempt': 0.0244880039, 'disgust': 0.0168128237, 'fear': 0.0164998565, 'happiness': 0.000524519361, 'neutral': 0.07842635, 'sadness': 0.8585693, 'surprise': 0.00218736986}}]}, {'input': '1001.jpg', 'output': [{'faceRectangle': {'height': 124, 'left': 81, 'top': 125, 'width': 124}, 'scores': {'anger': 0.00538743939, 'contempt': 0.00171594566, 'disgust': 0.000323920016, 'fear': 0.00014138472, 'happiness': 0.06632819, 'neutral': 0.883686244, 'sadness': 0.042016305, 'surprise': 0.000400564255}}]}, {'input': '10010.jpg', 'output': [{'faceRectangle': {'height': 67, 'left': 152, 'top': 75, 'width': 67}, 'scores': {'anger': 0.00273180916, 'contempt': 0.005256202, 'disgust': 0.004260217, 'fear': 0.00047890842, 'happiness': 0.08144534, 'neutral': 0.8759778, 'sadness': 0.01327306, 'surprise': 0.0165766645}}, {'faceRectangle': {'height': 66, 'left': 314, 'top': 112, 'width': 66}, 'scores': {'anger': 0.0111171734, 'contempt': 0.00234376569, 'disgust': 0.00128195633, 'fear': 5.820648e-05, 'happiness': 0.004362446, 'neutral': 0.9648531, 'sadness': 0.0143331587, 'surprise': 0.00165020139}}]}, {'input': '10011.jpg', 'output': [{'faceRectangle': {'height': 87, 'left': 161, 'top': 45, 'width': 87}, 'scores': {'anger': 0.00052604347, 'contempt': 4.23811325e-05, 'disgust': 0.00102575752, 'fear': 0.00266650063, 'happiness': 0.8993075, 'neutral': 0.01341798, 'sadness': 0.0129596265, 'surprise': 0.0700542}}]}, {'input': '10012.jpg', 'output': [{'faceRectangle': {'height': 63, 'left': 238, 'top': 83, 'width': 63}, 'scores': {'anger': 0.000234208244, 'contempt': 0.003679053, 'disgust': 0.00044479093, 'fear': 9.1027033e-07, 'happiness': 1.00083016e-05, 'neutral': 0.4358081, 'sadness': 0.5598198, 'surprise': 3.149552e-06}}, {'faceRectangle': {'height': 56, 'left': 175, 'top': 98, 'width': 56}, 'scores': {'anger': 2.741002e-05, 'contempt': 0.00158269086, 'disgust': 3.36721473e-06, 'fear': 1.62141632e-07, 'happiness': 0.0333677642, 'neutral': 0.964889, 'sadness': 0.0001216965, 'surprise': 7.907709e-06}}]}, {'input': '10013.jpg', 'output': [{'faceRectangle': {'height': 69, 'left': 114, 'top': 45, 'width': 69}, 'scores': {'anger': 0.04049016, 'contempt': 0.00613783952, 'disgust': 0.0101485709, 'fear': 0.006328914, 'happiness': 0.0182621144, 'neutral': 0.8660989, 'sadness': 0.0215005111, 'surprise': 0.0310329832}}, {'faceRectangle': {'height': 57, 'left': 302, 'top': 38, 'width': 57}, 'scores': {'anger': 0.005530062, 'contempt': 0.00329176243, 'disgust': 0.0004939332, 'fear': 1.34826587e-05, 'happiness': 0.003004258, 'neutral': 0.982126057, 'sadness': 0.005432429, 'surprise': 0.000107993787}}, {'faceRectangle': {'height': 37, 'left': 244, 'top': 41, 'width': 37}, 'scores': {'anger': 0.0438234434, 'contempt': 0.00441263337, 'disgust': 0.00235553528, 'fear': 0.0214099865, 'happiness': 0.000956735632, 'neutral': 0.8512537, 'sadness': 0.007872119, 'surprise': 0.06791587}}]}]\n"
     ]
    }
   ],
   "source": [
    "print(img_array)"
   ]
  },
  {
   "cell_type": "code",
   "execution_count": null,
   "metadata": {
    "collapsed": true
   },
   "outputs": [],
   "source": []
  }
 ],
 "metadata": {
  "kernelspec": {
   "display_name": "Python 3",
   "language": "python",
   "name": "python3"
  },
  "language_info": {
   "codemirror_mode": {
    "name": "ipython",
    "version": 3
   },
   "file_extension": ".py",
   "mimetype": "text/x-python",
   "name": "python",
   "nbconvert_exporter": "python",
   "pygments_lexer": "ipython3",
   "version": "3.6.0"
  }
 },
 "nbformat": 4,
 "nbformat_minor": 2
}
